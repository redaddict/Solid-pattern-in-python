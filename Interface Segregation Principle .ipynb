{
 "cells": [
  {
   "cell_type": "markdown",
   "metadata": {},
   "source": [
    "*Interface Segregation Principle (ISP)*\n",
    "\n",
    "The Interface Segregation Principle (ISP) is one of the SOLID principles, and it states that a class should not be forced to implement interfaces it does not use. In other words, a client should not be forced to depend on interfaces they do not use. This principle encourages the creation of specific, client-focused interfaces."
   ]
  },
  {
   "cell_type": "code",
   "execution_count": 1,
   "metadata": {},
   "outputs": [
    {
     "name": "stdout",
     "output_type": "stream",
     "text": [
      "SuperWorker is working very hard\n",
      "SuperWorker is eating a sandwich\n",
      "NormalWorker is working\n",
      "NormalWorker is eating lunch\n",
      "Robot is working hard\n"
     ]
    }
   ],
   "source": [
    "# Incorrect implementation violating ISP\n",
    "\n",
    "from abc import ABC, abstractmethod\n",
    "\n",
    "# Interface with multiple methods\n",
    "class Worker(ABC):\n",
    "    @abstractmethod\n",
    "    def work(self):\n",
    "        pass\n",
    "\n",
    "    @abstractmethod\n",
    "    def eat(self):\n",
    "        pass\n",
    "\n",
    "# Concrete class implementing the interface (violation of ISP)\n",
    "class SuperWorker(Worker):\n",
    "    def work(self):\n",
    "        return \"SuperWorker is working very hard\"\n",
    "\n",
    "    def eat(self):\n",
    "        return \"SuperWorker is eating a sandwich\"\n",
    "\n",
    "# Correct implementation following ISP\n",
    "\n",
    "# Separate interfaces for work and eat\n",
    "class Workable(ABC):\n",
    "    @abstractmethod\n",
    "    def work(self):\n",
    "        pass\n",
    "\n",
    "# Interface for eat\n",
    "class Eatable(ABC):\n",
    "    @abstractmethod\n",
    "    def eat(self):\n",
    "        pass\n",
    "\n",
    "# Concrete classes implementing specific interfaces\n",
    "class NormalWorker(Workable, Eatable):\n",
    "    def work(self):\n",
    "        return \"NormalWorker is working\"\n",
    "\n",
    "    def eat(self):\n",
    "        return \"NormalWorker is eating lunch\"\n",
    "\n",
    "class Robot(Workable):\n",
    "    def work(self):\n",
    "        return \"Robot is working hard\"\n",
    "\n",
    "# Example Usage\n",
    "\n",
    "# Incorrect implementation violating ISP\n",
    "super_worker = SuperWorker()\n",
    "print(super_worker.work())  # Output: SuperWorker is working very hard\n",
    "print(super_worker.eat())   # Output: SuperWorker is eating a sandwich\n",
    "\n",
    "# Correct implementation following ISP\n",
    "normal_worker = NormalWorker()\n",
    "robot = Robot()\n",
    "\n",
    "print(normal_worker.work())  # Output: NormalWorker is working\n",
    "print(normal_worker.eat())   # Output: NormalWorker is eating lunch\n",
    "\n",
    "print(robot.work())          # Output: Robot is working hard\n"
   ]
  },
  {
   "cell_type": "markdown",
   "metadata": {},
   "source": [
    "In the incorrect implementation, the Worker interface has two methods (work and eat), and the SuperWorker class is forced to implement both methods. However, a SuperWorker may not need to eat in the same way as a regular worker, violating ISP.\n",
    "\n",
    "In the correct implementation, separate interfaces (Workable and Eatable) are created for specific actions. Concrete classes (NormalWorker and Robot) implement only the interfaces that are relevant to their behavior, adhering to ISP.\n",
    "\n",
    "This way, clients can depend on specific interfaces that are relevant to their needs, and classes are not forced to implement methods that they don't use. ISP helps in creating more focused and cohesive interfaces, promoting better code organization and flexibility."
   ]
  }
 ],
 "metadata": {
  "kernelspec": {
   "display_name": "Python 3",
   "language": "python",
   "name": "python3"
  },
  "language_info": {
   "codemirror_mode": {
    "name": "ipython",
    "version": 3
   },
   "file_extension": ".py",
   "mimetype": "text/x-python",
   "name": "python",
   "nbconvert_exporter": "python",
   "pygments_lexer": "ipython3",
   "version": "3.12.0"
  }
 },
 "nbformat": 4,
 "nbformat_minor": 2
}
