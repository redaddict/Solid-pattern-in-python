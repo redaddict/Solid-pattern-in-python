{
 "cells": [
  {
   "cell_type": "markdown",
   "metadata": {},
   "source": [
    "*Liskov Substitution Principle (LSP)*\n",
    "\n",
    "The Liskov Substitution Principle (LSP) is one of the SOLID principles, and it states that objects of a superclass should be replaceable with objects of a subclass without affecting the correctness of the program. In other words, if a class is a subclass of another class, it should be able to substitute its parent class without causing errors or unexpected behavior."
   ]
  },
  {
   "cell_type": "code",
   "execution_count": 1,
   "metadata": {},
   "outputs": [
    {
     "name": "stdout",
     "output_type": "stream",
     "text": [
      "I cannot fly\n",
      "I can fly\n",
      "I cannot fly\n"
     ]
    }
   ],
   "source": [
    "# Incorrect implementation violating LSP\n",
    "\n",
    "class Bird:\n",
    "    def fly(self):\n",
    "        return \"I can fly\"\n",
    "\n",
    "class Penguin(Bird):\n",
    "    def fly(self):\n",
    "        # Penguins cannot fly, violating LSP\n",
    "        raise NotImplementedError(\"Penguins cannot fly\")\n",
    "\n",
    "# Correct implementation following LSP\n",
    "\n",
    "from abc import ABC, abstractmethod\n",
    "\n",
    "# Bird interface (or abstract class)\n",
    "class Bird(ABC):\n",
    "    @abstractmethod\n",
    "    def fly(self):\n",
    "        pass\n",
    "\n",
    "# Concrete Bird class\n",
    "class Sparrow(Bird):\n",
    "    def fly(self):\n",
    "        return \"I can fly\"\n",
    "\n",
    "# Concrete Bird class that cannot fly\n",
    "class Penguin(Bird):\n",
    "    def fly(self):\n",
    "        return \"I cannot fly\"\n",
    "\n",
    "# Function that expects any Bird and calls the fly method\n",
    "def bird_fly(bird):\n",
    "    return bird.fly()\n",
    "\n",
    "# Example Usage\n",
    "\n",
    "# Incorrect implementation violating LSP\n",
    "bird = Penguin()\n",
    "print(bird.fly())  # Raises NotImplementedError\n",
    "\n",
    "# Correct implementation following LSP\n",
    "sparrow = Sparrow()\n",
    "penguin = Penguin()\n",
    "\n",
    "print(bird_fly(sparrow))  # Outputs: I can fly\n",
    "print(bird_fly(penguin))  # Outputs: I cannot fly\n"
   ]
  },
  {
   "cell_type": "markdown",
   "metadata": {},
   "source": [
    "In the incorrect implementation, the Penguin class, which is a subclass of Bird, violates the Liskov Substitution Principle by raising a NotImplementedError in its fly method. This means that a Penguin cannot be seamlessly substituted for a generic Bird, and the program may break if such substitution is attempted.\n",
    "\n",
    "In the correct implementation, the Bird class is defined as an interface (or abstract class) with an abstract fly method. Concrete bird classes (Sparrow and Penguin) implement this method appropriately. Now, any concrete bird can be used interchangeably without violating LSP.\n",
    "\n",
    "The idea behind LSP is to ensure that subclasses adhere to the expected behavior of their parent classes, allowing for smooth substitution without unexpected consequences. In the example, both Sparrow and Penguin can be used interchangeably where a Bird is expected, maintaining the integrity of the program."
   ]
  }
 ],
 "metadata": {
  "kernelspec": {
   "display_name": "Python 3",
   "language": "python",
   "name": "python3"
  },
  "language_info": {
   "codemirror_mode": {
    "name": "ipython",
    "version": 3
   },
   "file_extension": ".py",
   "mimetype": "text/x-python",
   "name": "python",
   "nbconvert_exporter": "python",
   "pygments_lexer": "ipython3",
   "version": "3.12.0"
  }
 },
 "nbformat": 4,
 "nbformat_minor": 2
}
