{
 "cells": [
  {
   "cell_type": "markdown",
   "metadata": {},
   "source": [
    "*Single Responsibility Principle*\n",
    "\n",
    "The Single Responsibility Principle (SRP) is one of the SOLID principles, and it states that a class should have only one reason to change. In other words, a class should have only one responsibility or job. This principle promotes a clear and modular design, making it easier to understand, modify, and maintain classes."
   ]
  },
  {
   "cell_type": "markdown",
   "metadata": {},
   "source": [
    "Incorrect Implementation (Violating SRP):"
   ]
  },
  {
   "cell_type": "code",
   "execution_count": 6,
   "metadata": {},
   "outputs": [],
   "source": [
    "class Journal:\n",
    "    def __init__(self):\n",
    "        self.entries = []\n",
    "        self.count = 0\n",
    "\n",
    "    def add_entry(self, text):\n",
    "        self.count += 1\n",
    "        self.entries.append(f\"{self.count}: {text}\")\n",
    "\n",
    "    def remove_entry(self, index):\n",
    "        del self.entries[index]\n",
    "        self.count -= 1\n",
    "\n",
    "    def save_to_file(self, filename):\n",
    "        with open(filename, 'w') as file:\n",
    "            file.write('\\n'.join(self.entries))\n",
    "\n",
    "# Example Usage (Incorrect)\n",
    "journal = Journal()\n",
    "journal.add_entry(\"Today was a good day.\")\n",
    "journal.add_entry(\"Started working on a new project.\")\n",
    "journal.save_to_file(\"journal.txt\")  # This violates SRP\n"
   ]
  },
  {
   "cell_type": "markdown",
   "metadata": {},
   "source": [
    "Correct Implementation (Following SRP):"
   ]
  },
  {
   "cell_type": "code",
   "execution_count": 8,
   "metadata": {},
   "outputs": [],
   "source": [
    "class Journal:\n",
    "    def __init__(self):\n",
    "        self.entries = []\n",
    "        self.count = 0\n",
    "\n",
    "    def add_entry(self, text):\n",
    "        self.count += 1\n",
    "        self.entries.append(f\"{self.count}: {text}\")\n",
    "\n",
    "    def remove_entry(self, index):\n",
    "        del self.entries[index]\n",
    "        self.count -= 1\n",
    "\n",
    "# New class responsible for saving to a file\n",
    "class JournalFileSaver:\n",
    "    @staticmethod\n",
    "    def save_to_file(journal, filename):\n",
    "        with open(filename, 'w') as file:\n",
    "            file.write('\\n'.join(journal.entries))\n",
    "\n",
    "# Example Usage (Correct)\n",
    "journal = Journal()\n",
    "journal.add_entry(\"Today was a good day.\")\n",
    "journal.add_entry(\"Started working on a new project.\")\n",
    "\n",
    "file_saver = JournalFileSaver()\n",
    "file_saver.save_to_file(journal, \"journal.txt\")  # Adheres to SRP\n"
   ]
  }
 ],
 "metadata": {
  "kernelspec": {
   "display_name": "Python 3",
   "language": "python",
   "name": "python3"
  },
  "language_info": {
   "codemirror_mode": {
    "name": "ipython",
    "version": 3
   },
   "file_extension": ".py",
   "mimetype": "text/x-python",
   "name": "python",
   "nbconvert_exporter": "python",
   "pygments_lexer": "ipython3",
   "version": "3.12.0"
  }
 },
 "nbformat": 4,
 "nbformat_minor": 2
}
