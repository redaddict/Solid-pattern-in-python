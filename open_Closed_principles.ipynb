{
 "cells": [
  {
   "cell_type": "markdown",
   "metadata": {},
   "source": [
    "*Open/Closed Principle*\n",
    "\n",
    "The Open/Closed Principle (OCP) is one of the SOLID principles, and it states that a class should be open for extension but closed for modification. This means that the behavior of a module can be extended without modifying its source code.\n",
    "\n",
    "In Python, this principle is often achieved through the use of abstraction and polymorphism. "
   ]
  },
  {
   "cell_type": "code",
   "execution_count": 1,
   "metadata": {},
   "outputs": [
    {
     "name": "stdout",
     "output_type": "stream",
     "text": [
      "50\n",
      "50\n",
      "153.86\n"
     ]
    }
   ],
   "source": [
    "# Incorrect implementation violating OCP\n",
    "\n",
    "class Rectangle:\n",
    "    def __init__(self, width, height):\n",
    "        self.width = width\n",
    "        self.height = height\n",
    "\n",
    "# Function that calculates the area of a rectangle\n",
    "def calculate_rectangle_area(rectangle):\n",
    "    return rectangle.width * rectangle.height\n",
    "\n",
    "# Function that calculates the area of a circle (violation of OCP)\n",
    "def calculate_circle_area(circle):\n",
    "    return 3.14 * (circle.radius ** 2)\n",
    "\n",
    "# Correct implementation following OCP\n",
    "\n",
    "from abc import ABC, abstractmethod\n",
    "\n",
    "# Shape interface\n",
    "class Shape(ABC):\n",
    "    @abstractmethod\n",
    "    def calculate_area(self):\n",
    "        pass\n",
    "\n",
    "# Rectangle class implementing the Shape interface\n",
    "class Rectangle(Shape):\n",
    "    def __init__(self, width, height):\n",
    "        self.width = width\n",
    "        self.height = height\n",
    "\n",
    "    def calculate_area(self):\n",
    "        return self.width * self.height\n",
    "\n",
    "# Circle class implementing the Shape interface\n",
    "class Circle(Shape):\n",
    "    def __init__(self, radius):\n",
    "        self.radius = radius\n",
    "\n",
    "    def calculate_area(self):\n",
    "        return 3.14 * (self.radius ** 2)\n",
    "\n",
    "# Function that calculates the area of any shape without modification\n",
    "def calculate_area_of_shape(shape):\n",
    "    return shape.calculate_area()\n",
    "\n",
    "# Example Usage\n",
    "\n",
    "# Incorrect implementation violating OCP\n",
    "rectangle = Rectangle(5, 10)\n",
    "print(calculate_rectangle_area(rectangle))  # Works only for rectangles\n",
    "\n",
    "# Correct implementation following OCP\n",
    "rectangle = Rectangle(5, 10)\n",
    "circle = Circle(7)\n",
    "\n",
    "print(calculate_area_of_shape(rectangle))  # Works for any shape (rectangle)\n",
    "print(calculate_area_of_shape(circle))     # Works for any shape (circle)\n"
   ]
  },
  {
   "cell_type": "markdown",
   "metadata": {},
   "source": [
    "In the incorrect implementation, the function calculate_rectangle_area works only for rectangles. If you need to add a new shape, like a circle, you would need to modify this function, violating the Open/Closed Principle.\n",
    "\n",
    "In the correct implementation, the Shape interface is introduced, and both Rectangle and Circle classes implement this interface. The calculate_area_of_shape function can now work with any shape without modification, adhering to the Open/Closed Principle.\n",
    "\n",
    "By using abstraction and polymorphism, you can extend the behavior of the system by adding new classes (new shapes) without modifying existing code. This makes the code more flexible, maintainable, and allows for easier extension in the future."
   ]
  }
 ],
 "metadata": {
  "kernelspec": {
   "display_name": "Python 3",
   "language": "python",
   "name": "python3"
  },
  "language_info": {
   "codemirror_mode": {
    "name": "ipython",
    "version": 3
   },
   "file_extension": ".py",
   "mimetype": "text/x-python",
   "name": "python",
   "nbconvert_exporter": "python",
   "pygments_lexer": "ipython3",
   "version": "3.12.0"
  }
 },
 "nbformat": 4,
 "nbformat_minor": 2
}
