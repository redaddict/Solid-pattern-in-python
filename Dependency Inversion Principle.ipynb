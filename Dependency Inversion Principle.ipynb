{
 "cells": [
  {
   "cell_type": "markdown",
   "metadata": {},
   "source": [
    "*Dependency Inversion Principle (DIP)*\n",
    "\n",
    "The Dependency Inversion Principle (DIP) is one of the SOLID principles, and it states that high-level modules should not depend on low-level modules. Both should depend on abstractions. Additionally, abstractions should not depend on details; details should depend on abstractions."
   ]
  },
  {
   "cell_type": "code",
   "execution_count": 1,
   "metadata": {},
   "outputs": [
    {
     "name": "stdout",
     "output_type": "stream",
     "text": [
      "LightBulb is on\n",
      "LightBulb is on\n"
     ]
    }
   ],
   "source": [
    "# Incorrect implementation violating DIP\n",
    "\n",
    "class LightBulb:\n",
    "    def turn_on(self):\n",
    "        return \"LightBulb is on\"\n",
    "\n",
    "    def turn_off(self):\n",
    "        return \"LightBulb is off\"\n",
    "\n",
    "class Switch:\n",
    "    def __init__(self, bulb):\n",
    "        self.bulb = bulb\n",
    "\n",
    "    def operate(self):\n",
    "        return self.bulb.turn_on()\n",
    "\n",
    "# Correct implementation following DIP\n",
    "\n",
    "from abc import ABC, abstractmethod\n",
    "\n",
    "# Abstraction for a switchable device\n",
    "class SwitchableDevice(ABC):\n",
    "    @abstractmethod\n",
    "    def turn_on(self):\n",
    "        pass\n",
    "\n",
    "    @abstractmethod\n",
    "    def turn_off(self):\n",
    "        pass\n",
    "\n",
    "# LightBulb class implementing the abstraction\n",
    "class LightBulb(SwitchableDevice):\n",
    "    def turn_on(self):\n",
    "        return \"LightBulb is on\"\n",
    "\n",
    "    def turn_off(self):\n",
    "        return \"LightBulb is off\"\n",
    "\n",
    "# Switch class that operates on any SwitchableDevice\n",
    "class Switch:\n",
    "    def __init__(self, device):\n",
    "        self.device = device\n",
    "\n",
    "    def operate(self):\n",
    "        return self.device.turn_on()\n",
    "\n",
    "# Example Usage\n",
    "\n",
    "# Incorrect implementation violating DIP\n",
    "bulb = LightBulb()\n",
    "switch = Switch(bulb)\n",
    "print(switch.operate())  # Output: LightBulb is on\n",
    "\n",
    "# Correct implementation following DIP\n",
    "bulb = LightBulb()\n",
    "switch = Switch(bulb)\n",
    "print(switch.operate())  # Output: LightBulb is on\n"
   ]
  },
  {
   "cell_type": "markdown",
   "metadata": {},
   "source": [
    "In the incorrect implementation, the Switch class depends directly on the LightBulb class. This violates DIP because the high-level module (Switch) depends on a low-level module (LightBulb).\n",
    "\n",
    "In the correct implementation, an abstraction (SwitchableDevice interface) is introduced, and both the LightBulb class and the Switch class depend on this abstraction. Now, the high-level module (Switch) depends on an abstraction, adhering to DIP.\n",
    "\n",
    "This way, the Switch class can operate on any device that implements the SwitchableDevice interface without being tightly coupled to specific device classes. This promotes flexibility, decoupling, and adherence to the Dependency Inversion Principle."
   ]
  }
 ],
 "metadata": {
  "kernelspec": {
   "display_name": "Python 3",
   "language": "python",
   "name": "python3"
  },
  "language_info": {
   "codemirror_mode": {
    "name": "ipython",
    "version": 3
   },
   "file_extension": ".py",
   "mimetype": "text/x-python",
   "name": "python",
   "nbconvert_exporter": "python",
   "pygments_lexer": "ipython3",
   "version": "3.12.0"
  }
 },
 "nbformat": 4,
 "nbformat_minor": 2
}
